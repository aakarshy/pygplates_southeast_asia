{
 "cells": [
  {
   "cell_type": "code",
   "execution_count": 1,
   "metadata": {},
   "outputs": [],
   "source": [
    "#This code is to clean the data from EarthChem portal and convert it into a GPlates readable shapefile \n",
    "#You need to specify the mineral (or rock or compound) symbol that you want with variable 'a'\n",
    "\n",
    "import pandas as pd\n",
    "from geopandas import GeoDataFrame\n",
    "from shapely.geometry import Point\n",
    "\n"
   ]
  },
  {
   "cell_type": "code",
   "execution_count": 5,
   "metadata": {},
  ,
   "source": [
    "#****CLEANING THE DATA****\n",
    "#put in the name of your downloaded earthchem portal file in place of example.txt\n",
    "#initalize the value of 'c' with the symbol of mineral you are searching for\n",
    "data=pd.read_csv(\"example.txt\", sep='\\t', skipinitialspace=True)\n",
    "c='Cu'\n",
    "a=data.columns.get_loc(c)\n",
    "df=data.iloc[:,[5,6,9,a]] \n",
    "#5,6,9 are the default column numbers for Long, Lat and Age. Please check their position beforehand \n",
    "df=df[(df!=0).all(1)]\n",
    "df=df.dropna()\n"
   ]
  },
  {
   "cell_type": "code",
   "execution_count": null,
   "metadata": {},
   "outputs": [],
   "source": [
    "#****GENERATING SHAPEFILE****\n",
    "geometry=[Point(xy) for xy in zip(df.LONGITUDE,df.LATITUDE)]\n",
    "crs={'init':'epsg:4326'}\n",
    "gdf=GeoDataFrame(data,crs=crs,geometry=geometry)\n",
    "gdf.to_file(\"example.shp\")"
   ]
  }
 ],
 "metadata": {
  "kernelspec": {
   "display_name": "Python 2",
   "language": "python",
   "name": "python2"
  },
  "language_info": {
   "codemirror_mode": {
    "name": "ipython",
    "version": 2
   },
   "file_extension": ".py",
   "mimetype": "text/x-python",
   "name": "python",
   "nbconvert_exporter": "python",
   "pygments_lexer": "ipython2",
   "version": "2.7.15"
  }
 },
 "nbformat": 4,
 "nbformat_minor": 2
}
